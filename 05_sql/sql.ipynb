{
 "cells": [
  {
   "cell_type": "markdown",
   "metadata": {},
   "source": [
    "# 0. imports"
   ]
  },
  {
   "cell_type": "code",
   "execution_count": 13,
   "metadata": {},
   "outputs": [],
   "source": [
    "# !pip install sqlalchemy sqlite3 pandas"
   ]
  },
  {
   "cell_type": "code",
   "execution_count": 14,
   "metadata": {},
   "outputs": [],
   "source": [
    "import sqlite3\n",
    "import pandas as pd"
   ]
  },
  {
   "cell_type": "markdown",
   "metadata": {},
   "source": [
    "# 1. data"
   ]
  },
  {
   "cell_type": "code",
   "execution_count": 15,
   "metadata": {},
   "outputs": [
    {
     "data": {
      "text/plain": [
       "13"
      ]
     },
     "execution_count": 15,
     "metadata": {},
     "output_type": "execute_result"
    }
   ],
   "source": [
    "charms = pd.read_csv('../01_data/charms.csv', delimiter=';')  \n",
    "iaps = pd.read_csv('../01_data/iaps.csv', delimiter=';')\n",
    "\n",
    "# Step 2: Create a connection to the SQLite database\n",
    "db_path = '../02_db/my_database.db'  # Replace with your SQLite database path\n",
    "conn = sqlite3.connect(db_path)\n",
    "\n",
    "# Write data into tables\n",
    "charms.to_sql('charms', conn, if_exists='replace', index=False)\n",
    "iaps.to_sql('iaps', conn, if_exists='replace', index=False)"
   ]
  },
  {
   "cell_type": "code",
   "execution_count": 16,
   "metadata": {},
   "outputs": [
    {
     "data": {
      "text/plain": [
       "Index(['DATE', 'SERVER_ID', 'SETS_COMPLETED_LIFETIME'], dtype='object')"
      ]
     },
     "execution_count": 16,
     "metadata": {},
     "output_type": "execute_result"
    }
   ],
   "source": [
    "charms.columns"
   ]
  },
  {
   "cell_type": "code",
   "execution_count": 17,
   "metadata": {},
   "outputs": [
    {
     "data": {
      "text/plain": [
       "Index(['DATE', 'SERVER_ID', 'PAY'], dtype='object')"
      ]
     },
     "execution_count": 17,
     "metadata": {},
     "output_type": "execute_result"
    }
   ],
   "source": [
    "iaps.columns"
   ]
  },
  {
   "cell_type": "code",
   "execution_count": 18,
   "metadata": {},
   "outputs": [
    {
     "data": {
      "text/plain": [
       "Index(['DATE', 'SERVER_ID', 'SETS_COMPLETED_LIFETIME'], dtype='object')"
      ]
     },
     "execution_count": 18,
     "metadata": {},
     "output_type": "execute_result"
    }
   ],
   "source": [
    "charms.columns"
   ]
  },
  {
   "cell_type": "markdown",
   "metadata": {},
   "source": [
    "# 2. sql"
   ]
  },
  {
   "cell_type": "markdown",
   "metadata": {},
   "source": [
    "## Q1"
   ]
  },
  {
   "cell_type": "markdown",
   "metadata": {},
   "source": [
    "1. How many users have finished the event?\n",
    "The goal of this task is to find how many users (identified by their SERVER_ID) have completed exactly 18 sets within the event period (from 5th December 2019 to 2nd January 2020).\n",
    "\n",
    "Query Description:\n",
    "\n",
    "This query selects distinct SERVER_IDs where the number of SETS_COMPLETED_LIFETIME is exactly 18, indicating they have completed the event.\n",
    "The DATE range is between the start and end date of the event (5th December 2019 to 2nd January 2020)."
   ]
  },
  {
   "cell_type": "code",
   "execution_count": 25,
   "metadata": {},
   "outputs": [
    {
     "name": "stdout",
     "output_type": "stream",
     "text": [
      "Task 1: Users who finished the event:\n",
      "   users_finished_event\n",
      "0                     0\n"
     ]
    }
   ],
   "source": [
    "task_1_query = \"\"\"\n",
    "SELECT COUNT(DISTINCT SERVER_ID) AS users_finished_event\n",
    "FROM charms\n",
    "WHERE SETS_COMPLETED_LIFETIME = 18\n",
    "AND DATE BETWEEN '2019-12-05' AND '2020-01-02';\n",
    "\"\"\"\n",
    "result_1 = pd.read_sql_query(task_1_query, conn)\n",
    "print(\"Task 1: Users who finished the event:\")\n",
    "print(result_1)"
   ]
  },
  {
   "cell_type": "markdown",
   "metadata": {},
   "source": [
    "## Q2"
   ]
  },
  {
   "cell_type": "markdown",
   "metadata": {},
   "source": [
    "2. What is the average amount of $ spent to reach the end of the event?\n",
    "In this task, we need to compute the average amount spent by users to reach 18 sets, excluding any purchases made after completing the 18th set (e.g., after 20th December 2019).\n",
    "\n",
    "Query Description:\n",
    "\n",
    "This query calculates the total amount spent by users who completed 18 sets and were active up to 20th December 2019.\n",
    "We aggregate the PAY column by SERVER_ID and filter purchases that were made up to the completion of 18 sets."
   ]
  },
  {
   "cell_type": "code",
   "execution_count": null,
   "metadata": {},
   "outputs": [
    {
     "name": "stdout",
     "output_type": "stream",
     "text": [
      "Task 2: Average amount spent to reach the end of the event:\n",
      "  avg_spent\n",
      "0      None\n"
     ]
    }
   ],
   "source": [
    "task_2_query = \"\"\"\n",
    "WITH completed_sets AS (\n",
    "    SELECT SERVER_ID, MAX(SETS_COMPLETED_LIFETIME) AS max_sets\n",
    "    FROM charms\n",
    "    WHERE DATE <= '2019-12-20'\n",
    "    GROUP BY SERVER_ID\n",
    ")\n",
    "SELECT AVG(iaps.PAY) AS avg_spent\n",
    "FROM iaps\n",
    "JOIN completed_sets ON iaps.SERVER_ID = completed_sets.SERVER_ID\n",
    "WHERE completed_sets.max_sets = 18;\n",
    "\"\"\"\n",
    "result_2 = pd.read_sql_query(task_2_query, conn)\n",
    "print(\"Task 2: Average amount spent to reach the end of the event:\")\n",
    "print(result_2)"
   ]
  },
  {
   "cell_type": "markdown",
   "metadata": {},
   "source": [
    "## Q3"
   ]
  },
  {
   "cell_type": "markdown",
   "metadata": {},
   "source": [
    "3. For each player, calculate cumulative revenue per set completed.\n",
    "Here, we need to calculate how much revenue each user has generated at each set level, with the revenue accumulating as the player progresses.\n",
    "\n",
    "Query Description:\n",
    "\n",
    "This query calculates the cumulative revenue for each player for each set completed. We join the charms table with the iaps table to get the revenue data per player.\n",
    "The revenue is calculated cumulatively for each set completed."
   ]
  },
  {
   "cell_type": "code",
   "execution_count": 26,
   "metadata": {},
   "outputs": [
    {
     "name": "stdout",
     "output_type": "stream",
     "text": [
      "Task 3: Cumulative revenue per set completed:\n",
      "Empty DataFrame\n",
      "Columns: [SERVER_ID, SETS_COMPLETED_LIFETIME, total_revenue]\n",
      "Index: []\n"
     ]
    }
   ],
   "source": [
    "task_3_query = \"\"\"\n",
    "WITH cumulative_revenue AS (\n",
    "    SELECT charms.SERVER_ID, charms.SETS_COMPLETED_LIFETIME, SUM(iaps.PAY) AS total_revenue\n",
    "    FROM charms\n",
    "    JOIN iaps ON charms.SERVER_ID = iaps.SERVER_ID\n",
    "    WHERE charms.SETS_COMPLETED_LIFETIME <= 18\n",
    "    GROUP BY charms.SERVER_ID, charms.SETS_COMPLETED_LIFETIME\n",
    ")\n",
    "SELECT SERVER_ID, SETS_COMPLETED_LIFETIME, total_revenue\n",
    "FROM cumulative_revenue\n",
    "ORDER BY SERVER_ID, SETS_COMPLETED_LIFETIME;\n",
    "\"\"\"\n",
    "result_3 = pd.read_sql_query(task_3_query, conn)\n",
    "print(\"Task 3: Cumulative revenue per set completed:\")\n",
    "print(result_3)\n"
   ]
  },
  {
   "cell_type": "markdown",
   "metadata": {},
   "source": [
    "## Q4"
   ]
  },
  {
   "cell_type": "markdown",
   "metadata": {},
   "source": [
    "4. We want to extend the event for 2 more days. What strategy would you recommend to increase revenue?\n",
    "To extend the event and increase revenue, the strategy would involve targeting players who are close to completing the event or those who made significant purchases but haven't yet reached the maximum sets.\n",
    "\n",
    "SQL for Strategy:\n",
    "\n",
    "A strategy could be to offer additional incentives to players who are near completion of the sets or those who have spent significant amounts during the event.\n",
    "We can identify players who made purchases in the last few days and offer them extra incentives."
   ]
  },
  {
   "cell_type": "code",
   "execution_count": 28,
   "metadata": {},
   "outputs": [
    {
     "name": "stdout",
     "output_type": "stream",
     "text": [
      "Task 4: Players who made purchases just before event ends:\n",
      "Empty DataFrame\n",
      "Columns: [SERVER_ID, total_spent]\n",
      "Index: []\n"
     ]
    }
   ],
   "source": [
    "task_4_query = \"\"\"\n",
    "SELECT SERVER_ID, SUM(iaps.PAY) AS total_spent\n",
    "FROM iaps\n",
    "WHERE SERVER_ID IN (SELECT SERVER_ID FROM charms WHERE SETS_COMPLETED_LIFETIME = 17)\n",
    "AND DATE BETWEEN '2019-12-21' AND '2019-12-22'\n",
    "GROUP BY SERVER_ID\n",
    "HAVING total_spent > 10;\n",
    "\"\"\"\n",
    "result_4 = pd.read_sql_query(task_4_query, conn)\n",
    "print(\"Task 4: Players who made purchases just before event ends:\")\n",
    "print(result_4)"
   ]
  },
  {
   "cell_type": "markdown",
   "metadata": {},
   "source": [
    "## Q5"
   ]
  },
  {
   "cell_type": "markdown",
   "metadata": {},
   "source": [
    "5. Can we say the 20% increase in revenue is due to the success of the feature?\n",
    "This task requires analyzing the revenue growth during the event period and comparing it to the revenue from previous periods.\n",
    "\n",
    "Query Description:\n",
    "\n",
    "This query compares the total revenue before and during the event to determine if the 20% increase can be attributed to the event feature."
   ]
  },
  {
   "cell_type": "code",
   "execution_count": 29,
   "metadata": {},
   "outputs": [
    {
     "name": "stdout",
     "output_type": "stream",
     "text": [
      "Task 5: Revenue increase during the event:\n",
      "  total_revenue_pre_event total_revenue_event revenue_increase_percentage\n",
      "0                    None                None                        None\n"
     ]
    }
   ],
   "source": [
    "task_5_query = \"\"\"\n",
    "WITH pre_event_revenue AS (\n",
    "    SELECT SUM(PAY) AS total_revenue_pre_event\n",
    "    FROM iaps\n",
    "    WHERE DATE BETWEEN '2019-11-01' AND '2019-12-04'\n",
    "),\n",
    "event_revenue AS (\n",
    "    SELECT SUM(PAY) AS total_revenue_event\n",
    "    FROM iaps\n",
    "    WHERE DATE BETWEEN '2019-12-05' AND '2020-01-02'\n",
    ")\n",
    "SELECT \n",
    "    total_revenue_pre_event,\n",
    "    total_revenue_event,\n",
    "    (total_revenue_event - total_revenue_pre_event) / total_revenue_pre_event * 100 AS revenue_increase_percentage\n",
    "FROM pre_event_revenue, event_revenue;\n",
    "\"\"\"\n",
    "result_5 = pd.read_sql_query(task_5_query, conn)\n",
    "print(\"Task 5: Revenue increase during the event:\")\n",
    "print(result_5)"
   ]
  },
  {
   "cell_type": "code",
   "execution_count": 11,
   "metadata": {},
   "outputs": [],
   "source": [
    "# conn.close()"
   ]
  }
 ],
 "metadata": {
  "kernelspec": {
   "display_name": "base",
   "language": "python",
   "name": "python3"
  },
  "language_info": {
   "codemirror_mode": {
    "name": "ipython",
    "version": 3
   },
   "file_extension": ".py",
   "mimetype": "text/x-python",
   "name": "python",
   "nbconvert_exporter": "python",
   "pygments_lexer": "ipython3",
   "version": "3.10.9"
  }
 },
 "nbformat": 4,
 "nbformat_minor": 2
}
